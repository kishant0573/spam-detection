{
 "cells": [
  {
   "cell_type": "code",
   "execution_count": null,
   "id": "5401d909",
   "metadata": {},
   "outputs": [],
   "source": [
    "import pandas as pd"
   ]
  },
  {
   "cell_type": "code",
   "execution_count": null,
   "id": "72599996",
   "metadata": {},
   "outputs": [],
   "source": [
    "import numpy as np"
   ]
  },
  {
   "cell_type": "code",
   "execution_count": null,
   "id": "098589f0",
   "metadata": {},
   "outputs": [],
   "source": [
    "df =  pd.read_csv(\"spam.csv\")"
   ]
  },
  {
   "cell_type": "code",
   "execution_count": null,
   "id": "c57bc3cf",
   "metadata": {},
   "outputs": [],
   "source": [
    "df.Category.value_counts()"
   ]
  },
  {
   "cell_type": "code",
   "execution_count": null,
   "id": "c5d7d5e3",
   "metadata": {},
   "outputs": [],
   "source": [
    "def get_spam(x):\n",
    "    if x == 'spam':\n",
    "        return 1\n",
    "    else:\n",
    "        return 0\n"
   ]
  },
  {
   "cell_type": "code",
   "execution_count": null,
   "id": "81a76f55",
   "metadata": {},
   "outputs": [],
   "source": [
    "df['spam'] = df['Category'].apply(lambda x: 1 if x =='spam' else 0)\n",
    "# df['spam'] = df['Category'].apply(get_spam)"
   ]
  },
  {
   "cell_type": "code",
   "execution_count": null,
   "id": "53f7124e",
   "metadata": {},
   "outputs": [],
   "source": [
    "# df['spam_category']= df['Category'].apply(get_spam)   # this is  another way "
   ]
  },
  {
   "cell_type": "code",
   "execution_count": null,
   "id": "7c025407",
   "metadata": {},
   "outputs": [],
   "source": [
    "df.shape"
   ]
  },
  {
   "cell_type": "code",
   "execution_count": null,
   "id": "e49d4c5c",
   "metadata": {},
   "outputs": [],
   "source": [
    "df.head()"
   ]
  },
  {
   "cell_type": "code",
   "execution_count": null,
   "id": "b43aed6f",
   "metadata": {},
   "outputs": [],
   "source": [
    "# df=df.drop('spam_category',axis=1)  deleting the created column"
   ]
  },
  {
   "cell_type": "code",
   "execution_count": null,
   "id": "95d5f0dc",
   "metadata": {},
   "outputs": [],
   "source": []
  },
  {
   "cell_type": "code",
   "execution_count": null,
   "id": "8edfaaa3",
   "metadata": {},
   "outputs": [],
   "source": [
    "df.head()"
   ]
  },
  {
   "cell_type": "code",
   "execution_count": null,
   "id": "133d2a4f",
   "metadata": {},
   "outputs": [],
   "source": [
    "from sklearn.model_selection import train_test_split\n",
    "X_train,X_test,y_train ,y_test = train_test_split(df.Message,df.spam,test_size=0.2)\n"
   ]
  },
  {
   "cell_type": "code",
   "execution_count": null,
   "id": "7ce48091",
   "metadata": {},
   "outputs": [],
   "source": [
    "X_train"
   ]
  },
  {
   "cell_type": "code",
   "execution_count": null,
   "id": "2230f975",
   "metadata": {},
   "outputs": [],
   "source": [
    "X_train.shape"
   ]
  },
  {
   "cell_type": "code",
   "execution_count": null,
   "id": "4925096d",
   "metadata": {},
   "outputs": [],
   "source": [
    "X_train       "
   ]
  },
  {
   "cell_type": "code",
   "execution_count": null,
   "id": "9c285a5b",
   "metadata": {},
   "outputs": [],
   "source": [
    "type(X_train)"
   ]
  },
  {
   "cell_type": "markdown",
   "id": "d2097673",
   "metadata": {},
   "source": [
    "#creating bag of word using Countvectorizer"
   ]
  },
  {
   "cell_type": "code",
   "execution_count": 17,
   "id": "972d68b1",
   "metadata": {},
   "outputs": [],
   "source": [
    "from sklearn.feature_extraction.text import CountVectorizer"
   ]
  },
  {
   "cell_type": "code",
   "execution_count": 18,
   "id": "cb0250f9",
   "metadata": {},
   "outputs": [],
   "source": [
    "v = CountVectorizer()"
   ]
  },
  {
   "cell_type": "code",
   "execution_count": 19,
   "id": "ae0b2a73",
   "metadata": {},
   "outputs": [],
   "source": [
    "X_train_cv = v.fit_transform(X_train.values)  # taking only array or list\n"
   ]
  },
  {
   "cell_type": "code",
   "execution_count": 20,
   "id": "36fb81ea",
   "metadata": {},
   "outputs": [
    {
     "data": {
      "text/plain": [
       "<4457x7835 sparse matrix of type '<class 'numpy.int64'>'\n",
       "\twith 59156 stored elements in Compressed Sparse Row format>"
      ]
     },
     "execution_count": 20,
     "metadata": {},
     "output_type": "execute_result"
    }
   ],
   "source": [
    "X_train_cv   "
   ]
  },
  {
   "cell_type": "code",
   "execution_count": 21,
   "id": "87e6dc46",
   "metadata": {},
   "outputs": [
    {
     "data": {
      "text/plain": [
       "array([[0, 0, 0, ..., 0, 0, 0],\n",
       "       [0, 0, 0, ..., 0, 0, 0]], dtype=int64)"
      ]
     },
     "execution_count": 21,
     "metadata": {},
     "output_type": "execute_result"
    }
   ],
   "source": [
    "X_train_cv.toarray()[:2]"
   ]
  },
  {
   "cell_type": "code",
   "execution_count": null,
   "id": "172c130d",
   "metadata": {},
   "outputs": [],
   "source": [
    "v.get_feature_names_out()[1455]"
   ]
  },
  {
   "cell_type": "code",
   "execution_count": null,
   "id": "d556150b",
   "metadata": {
    "scrolled": false
   },
   "outputs": [],
   "source": [
    "v.vocabulary_"
   ]
  },
  {
   "cell_type": "code",
   "execution_count": null,
   "id": "4cd7132d",
   "metadata": {},
   "outputs": [],
   "source": [
    "X_train_np = X_train_cv.toarray()\n"
   ]
  },
  {
   "cell_type": "code",
   "execution_count": null,
   "id": "f72649e5",
   "metadata": {},
   "outputs": [],
   "source": [
    "X_train_np[0]"
   ]
  },
  {
   "cell_type": "code",
   "execution_count": null,
   "id": "552863fd",
   "metadata": {},
   "outputs": [],
   "source": [
    "np.where(X_train_np[0] != 0)"
   ]
  },
  {
   "cell_type": "markdown",
   "id": "cffe3b8e",
   "metadata": {},
   "source": [
    "# Train naive bayes model "
   ]
  },
  {
   "cell_type": "code",
   "execution_count": 22,
   "id": "2df8423e",
   "metadata": {},
   "outputs": [],
   "source": [
    "from sklearn.naive_bayes import MultinomialNB"
   ]
  },
  {
   "cell_type": "code",
   "execution_count": null,
   "id": "7115d3a5",
   "metadata": {},
   "outputs": [],
   "source": [
    "model = MultinomialNB()\n",
    "model.fit(X_train_cv,y_train)"
   ]
  },
  {
   "cell_type": "code",
   "execution_count": null,
   "id": "7590630a",
   "metadata": {},
   "outputs": [],
   "source": [
    "X_test_cv = v.transform(X_test)    #we are not using v.fit_transform it  is used in  training"
   ]
  },
  {
   "cell_type": "code",
   "execution_count": null,
   "id": "93431bd0",
   "metadata": {},
   "outputs": [],
   "source": [
    "from sklearn.metrics import classification_report\n",
    "y_pred = model.predict(X_test_cv)"
   ]
  },
  {
   "cell_type": "code",
   "execution_count": null,
   "id": "83d8a73b",
   "metadata": {},
   "outputs": [],
   "source": [
    "print(classification_report(y_test,y_pred))"
   ]
  },
  {
   "cell_type": "code",
   "execution_count": null,
   "id": "2e66edd5",
   "metadata": {},
   "outputs": [],
   "source": [
    "emails = [\n",
    "    'Hey mohan, can we get together to watch footbal game tomorrow?',\n",
    "    'Upto 20% discount on parking, exclusive offer just for you. Dont miss this reward!',\n",
    "    '''Hello Coder,\n",
    "\n",
    "        This is your final chance to get hired at Bajaj Finserv through HackRx 4.0! \n",
    "\n",
    "        Application Link: https://unstop.com/o/r9EPwon/?ref=kc6toME3\n",
    "\n",
    "        Rewards: Prizes worth INR 10 Lakhs with potential job/internship opportunities.\n",
    "\n",
    "        Just head over to the link and apply now!\n",
    "\n",
    "        Regards,\n",
    "        Team Bajaj Finserv\n",
    "     '''\n",
    "]\n",
    "\n",
    "emails_count = v.transform(emails)\n",
    "model.predict(emails_count)"
   ]
  },
  {
   "cell_type": "code",
   "execution_count": null,
   "id": "05ba59bd",
   "metadata": {},
   "outputs": [],
   "source": []
  }
 ],
 "metadata": {
  "kernelspec": {
   "display_name": "Python 3 (ipykernel)",
   "language": "python",
   "name": "python3"
  },
  "language_info": {
   "codemirror_mode": {
    "name": "ipython",
    "version": 3
   },
   "file_extension": ".py",
   "mimetype": "text/x-python",
   "name": "python",
   "nbconvert_exporter": "python",
   "pygments_lexer": "ipython3",
   "version": "3.9.12"
  }
 },
 "nbformat": 4,
 "nbformat_minor": 5
}
